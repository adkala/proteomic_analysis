{
 "cells": [
  {
   "cell_type": "markdown",
   "id": "50d8894f-c78e-4eb8-a296-d4dccc9a9cc6",
   "metadata": {},
   "source": [
    "# Proteomics Analysis Tool\n",
    " \n",
    "## Variables\n",
    "trial_number (int): number of trials per variant per media \\\n",
    "fold_change_threshold (float): fold change threshold (for +- significance) \\\n",
    "\\\n",
    "quantitative (bool): use threshold to determine if measurements in a media are significant (set value to 'False' if qualitative) \\\n",
    "quantitative_threshold (float): threshold for determining significant measurements \\\n",
    "\\\n",
    "start_path (str): location of Excel files (relative to ipynb kernel directory)\\\n",
    "end_path (str): location of output Excel files and figures (relative to ipynb kernel directory)"
   ]
  },
  {
   "cell_type": "code",
   "execution_count": 12,
   "id": "014e98e5-4cc8-4454-b21c-a326958bc4ff",
   "metadata": {},
   "outputs": [],
   "source": [
    "# base settings\n",
    "trial_number=3\n",
    "fold_change_threshold=0.5\n",
    "\n",
    "# quantitative analysis settings\n",
    "quantitative=True\n",
    "quantitative_threshold=5\n",
    "\n",
    "# start and end path (default value when empty is base ipynb kernel directory)\n",
    "start_path = ''\n",
    "end_path = ''"
   ]
  },
  {
   "cell_type": "markdown",
   "id": "3a24f35e-641f-4126-b146-79067ce13448",
   "metadata": {},
   "source": [
    "## Setup"
   ]
  },
  {
   "cell_type": "code",
   "execution_count": 13,
   "id": "8e2979a7-4af8-48dc-89cf-df292c1127dc",
   "metadata": {},
   "outputs": [],
   "source": [
    "import sys\n",
    "import pathlib\n",
    "import os\n",
    "import pandas as pd\n",
    "import numpy as np\n",
    "import scipy.stats\n",
    "import matplotlib.pyplot as plt"
   ]
  },
  {
   "cell_type": "code",
   "execution_count": 18,
   "id": "7be3503d-8ffe-4717-a02b-baccb363307c",
   "metadata": {},
   "outputs": [],
   "source": [
    "# Helper function: create random floats\n",
    "def random_float(mean, std, seed=\"\"):\n",
    "    rng = np.random.default_rng() if not seed else np.random.default_rng(seed=seed)\n",
    "    return rng.uniform(low=mean-std, high=mean+std)\n",
    "\n",
    "# Helper function: define whether row is an outlier (input is 6-value list, first 3 num, last 3 den)\n",
    "def is_outlier(row):\n",
    "    num = row[:3]\n",
    "    den = row[3:]\n",
    "    return False"
   ]
  },
  {
   "cell_type": "code",
   "execution_count": 15,
   "id": "44d9e3bd-cc2a-4fe0-b719-4ebfcd668596",
   "metadata": {},
   "outputs": [],
   "source": [
    "def analyze(data_sheet: str, d: str, n: list):\n",
    "    # read excel file\n",
    "    xl = pd.read_excel(start_path + data_sheet, sheet_name=\"edited\")\n",
    "    xl = np.vstack((list(xl), xl.to_numpy()))\n",
    "\n",
    "    # set denom data\n",
    "    d_col = []\n",
    "    for i in range(2, len(xl[0])):\n",
    "        if d == xl[0][i][: (xl[0][i].index(\"_\") if \"_\" in xl[0][i] else xl[0][i].index(\"-\"))]:\n",
    "            d_col.append(i)\n",
    "\n",
    "    if len(d_col) != trial_number:\n",
    "        print(\"Count for\", d, \"is not 3, please check inputs and data sheets again\")\n",
    "        return\n",
    "    d_col = xl[:, d_col]\n",
    "\n",
    "    # set numers data\n",
    "    n_cols = {}\n",
    "    for x in n:\n",
    "        n_col = []\n",
    "        for i in range(2, len(xl[0])):\n",
    "            if x == xl[0][i][: (xl[0][i].index(\"_\") if \"_\" in xl[0][i] else xl[0][i].index(\"-\"))]:\n",
    "                n_col.append(i)\n",
    "        if len(n_col) != trial_number:\n",
    "            print(\"Count for\", x,\n",
    "                  \"is not 3, please check inputs and data sheets again\")\n",
    "            return\n",
    "        n_cols[x] = xl[:, n_col]\n",
    "\n",
    "    # do analysis\n",
    "    analyzed = {}\n",
    "    for x in n_cols:\n",
    "        n_col = n_cols[x]\n",
    "        total = np.hstack(\n",
    "            (xl[:, 0].reshape(-1, 1), xl[:, 1].reshape(-1, 1), d_col, n_col))\n",
    "\n",
    "        total_delete_row = []\n",
    "        for i in range(2, len(total)):\n",
    "            if total[i][2:].sum() == 0 or (quantitative and (total[i][2:] > quantitative_threshold).sum() < 3) or is_outlier(total[i][2:]):\n",
    "                total_delete_row.append(i)\n",
    "\n",
    "        tf = np.delete(total, total_delete_row, axis=0)\n",
    "\n",
    "        calc = tf[2:, 2:].flatten()[tf[2:, 2:].flatten() < (\n",
    "            quantitative_threshold if quantitative else 1)]\n",
    "        if (sum(calc) == 0):\n",
    "            # what should I do when there are no values less than 1 but are just all 0's?\n",
    "            calc, mean, std = 0, 0, 0\n",
    "        else:\n",
    "            calc = calc[calc > 0]\n",
    "            mean = np.mean(calc)\n",
    "            std = np.std(calc)\n",
    "\n",
    "        for i in range(1, len(tf)):\n",
    "            for j in range(1, len(tf[0])):\n",
    "                if tf[i][j] == 0:\n",
    "                    tf[i][j] = random_float(mean, std)\n",
    "                    tf[i][1] += (\"*\" if \"*\" not in tf[i][1] else \"\")\n",
    "\n",
    "        l2fc = [\"L2FC\"]\n",
    "        nl10pv = [\"-log10(p-value)\"]\n",
    "        sig = [\" \"]\n",
    "\n",
    "        up = []\n",
    "        down = []\n",
    "        rest = []\n",
    "        for i in range(1, len(tf)):\n",
    "            num = tf[i][5:8]\n",
    "            den = tf[i][2:5]\n",
    "            l2fc.append(np.log2(np.mean(num) / np.mean(den)))\n",
    "            nl10pv.append(-1 * np.log10(scipy.stats.ttest_ind(num,\n",
    "                          den, equal_var=False)[1])),\n",
    "            if l2fc[-1] > fold_change_threshold and nl10pv[-1] > 1.30102999566:\n",
    "                sig.append(\"UP\")\n",
    "                up.append([l2fc[-1], nl10pv[-1]])\n",
    "            elif l2fc[-1] < -1 * fold_change_threshold and nl10pv[-1] > 1.30102999566:\n",
    "                sig.append(\"DOWN\")\n",
    "                down.append([l2fc[-1], nl10pv[-1]])\n",
    "            else:\n",
    "                sig.append(\" \")\n",
    "                rest.append([l2fc[-1], nl10pv[-1]])\n",
    "\n",
    "        up_scatter = plt.scatter([i[0] for i in up], [i[1]\n",
    "                                 for i in up], c=\"blue\")\n",
    "        down_scatter = plt.scatter([i[0] for i in down], [\n",
    "                                   i[1] for i in down], c=\"red\")\n",
    "        r = plt.scatter([i[0] for i in rest], [i[1] for i in rest], c=\"grey\")\n",
    "        plt.legend((up_scatter, down_scatter),\n",
    "                   (\"Up Regulated\", \"Down Regulated\"))\n",
    "        plt.title(d + \" vs \" + x)\n",
    "        plt.xlabel(\"Log2 Fold Change\")\n",
    "        plt.ylabel(\"-Log10 P-Value\")\n",
    "\n",
    "        if not os.path.isdir(end_path + \"figures\"):\n",
    "            os.makedirs(end_path + \"figures\")\n",
    "        plt.savefig(end_path +\n",
    "                    \"figures/\" + data_sheet[:data_sheet.index(\".\")] + \"_\" + d + \"_VS_\" + x + \".png\")\n",
    "\n",
    "        tf = np.hstack((tf, np.array(l2fc).reshape(-1, 1),\n",
    "                       np.array(nl10pv).reshape(-1, 1), np.array(sig).reshape(-1, 1)))\n",
    "\n",
    "        analyzed[x] = pd.DataFrame(tf)\n",
    "\n",
    "    # write to excel\n",
    "    writer = pd.ExcelWriter(\n",
    "        end_path + data_sheet[:data_sheet.index(\".xlsx\")] + \"_\" + n[0] + \".xlsx\", engine=\"xlsxwriter\")\n",
    "    for sheet in analyzed:\n",
    "        analyzed[sheet].to_excel(\n",
    "            writer, sheet_name=sheet, index=False, header=False)\n",
    "    writer.save()"
   ]
  },
  {
   "cell_type": "code",
   "execution_count": 16,
   "id": "fbb8b7d1-46b5-4387-99f3-bba0444c06fa",
   "metadata": {},
   "outputs": [],
   "source": [
    "def prot(data_sheets, d, n):\n",
    "    for data_sheet in data_sheets:\n",
    "        analyze(data_sheet, d, n)"
   ]
  },
  {
   "cell_type": "markdown",
   "id": "45523d90-4cc2-4e57-a0b7-d6a9e8c3d13f",
   "metadata": {},
   "source": [
    "## Run"
   ]
  },
  {
   "cell_type": "code",
   "execution_count": 19,
   "id": "8ccaa672-4e91-43f8-bbef-710142143fb9",
   "metadata": {},
   "outputs": [
    {
     "data": {
      "image/png": "[encoded data removed]",
      "text/plain": [
       "<Figure size 432x288 with 1 Axes>"
      ]
     },
     "metadata": {
      "needs_background": "light"
     },
     "output_type": "display_data"
    }
   ],
   "source": [
    "# excel file name (type all separated with ',' - no spaces)\n",
    "data_sheets = ['HBA.xlsx']\n",
    "# denominator\n",
    "d = 'KT2440'\n",
    "# numerators/tabs (type all separated with ',' - no space)\n",
    "n = ['7B']\n",
    "\n",
    "prot(data_sheets, d, n)"
   ]
  }
 ],
 "metadata": {
  "kernelspec": {
   "display_name": "Python 3 (ipykernel)",
   "language": "python",
   "name": "python3"
  },
  "language_info": {
   "codemirror_mode": {
    "name": "ipython",
    "version": 3
   },
   "file_extension": ".py",
   "mimetype": "text/x-python",
   "name": "python",
   "nbconvert_exporter": "python",
   "pygments_lexer": "ipython3",
   "version": "3.9.12"
  }
 },
 "nbformat": 4,
 "nbformat_minor": 5
}
